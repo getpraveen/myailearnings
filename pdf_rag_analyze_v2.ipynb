{
 "cells": [
  {
   "cell_type": "code",
   "execution_count": 1,
   "metadata": {},
   "outputs": [
    {
     "name": "stderr",
     "output_type": "stream",
     "text": [
      "c:\\Users\\LENOVO\\Desktop\\ItsAIWork\\.venv\\Lib\\site-packages\\tqdm\\auto.py:21: TqdmWarning: IProgress not found. Please update jupyter and ipywidgets. See https://ipywidgets.readthedocs.io/en/stable/user_install.html\n",
      "  from .autonotebook import tqdm as notebook_tqdm\n"
     ]
    },
    {
     "name": "stdout",
     "output_type": "stream",
     "text": [
      "Praveen Kumar V – Da\n"
     ]
    }
   ],
   "source": [
    "from langchain_community.document_loaders import UnstructuredPDFLoader\n",
    "\n",
    "######### Content Processing Block ###############################\n",
    "\n",
    "## Loading PDF file from local file directory\n",
    "## read the content and store it in data object \n",
    "local_path = \"./alphabet/Praveen_13Yrs_Datascience_AI.pdf\"\n",
    "\n",
    "if local_path:\n",
    "    loader = UnstructuredPDFLoader(file_path=local_path)\n",
    "    data = loader.load()\n",
    "else:\n",
    "    print(\"Upload a PDF file for processing.\")\n",
    "\n",
    "print(data[0].page_content[:20])"
   ]
  },
  {
   "cell_type": "code",
   "execution_count": 2,
   "metadata": {},
   "outputs": [
    {
     "name": "stderr",
     "output_type": "stream",
     "text": [
      "C:\\Users\\LENOVO\\AppData\\Local\\Temp\\ipykernel_13696\\4070848861.py:18: LangChainDeprecationWarning: The class `OllamaEmbeddings` was deprecated in LangChain 0.3.1 and will be removed in 1.0.0. An updated version of the class exists in the :class:`~langchain-ollama package and should be used instead. To use it run `pip install -U :class:`~langchain-ollama` and import as `from :class:`~langchain_ollama import OllamaEmbeddings``.\n",
      "  vector_db = Chroma(persist_directory='resume_db', embedding_function=OllamaEmbeddings(model=\"nomic-embed-text\", show_progress=True))\n",
      "C:\\Users\\LENOVO\\AppData\\Local\\Temp\\ipykernel_13696\\4070848861.py:18: LangChainDeprecationWarning: The class `Chroma` was deprecated in LangChain 0.2.9 and will be removed in 1.0. An updated version of the class exists in the :class:`~langchain-chroma package and should be used instead. To use it run `pip install -U :class:`~langchain-chroma` and import as `from :class:`~langchain_chroma import Chroma``.\n",
      "  vector_db = Chroma(persist_directory='resume_db', embedding_function=OllamaEmbeddings(model=\"nomic-embed-text\", show_progress=True))\n"
     ]
    }
   ],
   "source": [
    "## Converting content into dense vector embeddings \n",
    "from langchain_community.embeddings import OllamaEmbeddings\n",
    "from langchain_text_splitters import RecursiveCharacterTextSplitter\n",
    "from langchain_community.vectorstores import Chroma \n",
    "\n",
    "#Split and chunk the data\n",
    "text_splitter = RecursiveCharacterTextSplitter(chunk_size=7500, chunk_overlap=100)\n",
    "chunks = text_splitter.split_documents(data)\n",
    "\n",
    "\n",
    "# Add the chunks to vector database, which takes the model for creating the embeddings.\n",
    "# vector_db = Chroma.from_documents(\n",
    "#                                     documents=chunks, \n",
    "#                                     embedding=OllamaEmbeddings(model=\"nomic-embed-text\", show_progress=True),\n",
    "#                                     persist_directory=\"resume_db\"\n",
    "#                                 )\n",
    "\n",
    "vector_db = Chroma(persist_directory='resume_db', embedding_function=OllamaEmbeddings(model=\"nomic-embed-text\", show_progress=True))\n",
    "#https://github.com/hwchase17/chroma-langchain/blob/master/persistent-qa.ipynb"
   ]
  },
  {
   "cell_type": "code",
   "execution_count": null,
   "metadata": {},
   "outputs": [],
   "source": [
    "######### Retrieval + Generation of Response ##############################\n",
    "from langchain.prompts import ChatPromptTemplate, PromptTemplate\n",
    "from langchain_core.output_parsers import StrOutputParser\n",
    "from langchain_community.chat_models import ChatOllama\n",
    "from langchain_core.runnables import RunnablePassthrough\n",
    "from langchain.retrievers.multi_query import MultiQueryRetriever\n",
    "\n",
    "local_llm = \"llama3.1\" #latest 4.9GB\n",
    "#local_llm = \"llama3.2:1b\" #1.3GB\n",
    "llm = ChatOllama(model=local_llm)\n",
    "\n",
    "QUERY_PROMPT = PromptTemplate(\n",
    "    input_variables = [\"question\"],\n",
    "    template=\"\"\"You are an AI Language model assistant. Your task is to generate five different versions of the given user question to retrieve relavant documents from a vector databaase. By generating multiple perspectives on the user question, your goal is to help the user overcome some of the limitations of the distance-based similarity search. Provide these alternative questions separated by newlines. \n",
    "    Original question: {question} \"\"\"\n",
    ")\n",
    "\n",
    "retriever = MultiQueryRetriever.from_llm(vector_db.as_retriever(),llm, prompt=QUERY_PROMPT)\n",
    "\n",
    "# RAG Prompt\n",
    "template = \"\"\"Answer the question based ONLY on the following context: \n",
    "{context}\n",
    "Question: {question}\n",
    "\"\"\"\n",
    "\n",
    "prompt = ChatPromptTemplate.from_template(template)"
   ]
  },
  {
   "cell_type": "code",
   "execution_count": 9,
   "metadata": {},
   "outputs": [
    {
     "name": "stderr",
     "output_type": "stream",
     "text": [
      "OllamaEmbeddings: 100%|██████████| 1/1 [00:02<00:00,  2.15s/it]\n",
      "Number of requested results 4 is greater than number of elements in index 1, updating n_results = 1\n",
      "OllamaEmbeddings: 100%|██████████| 1/1 [00:02<00:00,  2.10s/it]\n",
      "Number of requested results 4 is greater than number of elements in index 1, updating n_results = 1\n",
      "OllamaEmbeddings: 100%|██████████| 1/1 [00:02<00:00,  2.11s/it]\n",
      "Number of requested results 4 is greater than number of elements in index 1, updating n_results = 1\n",
      "OllamaEmbeddings: 100%|██████████| 1/1 [00:02<00:00,  2.18s/it]\n",
      "Number of requested results 4 is greater than number of elements in index 1, updating n_results = 1\n",
      "OllamaEmbeddings: 100%|██████████| 1/1 [00:02<00:00,  2.21s/it]\n",
      "Number of requested results 4 is greater than number of elements in index 1, updating n_results = 1\n",
      "OllamaEmbeddings: 100%|██████████| 1/1 [00:02<00:00,  2.19s/it]\n",
      "Number of requested results 4 is greater than number of elements in index 1, updating n_results = 1\n"
     ]
    },
    {
     "name": "stdout",
     "output_type": "stream",
     "text": [
      "Based on the document metadata, Paraveen Kumar V has worked for the following companies:\n",
      "\n",
      "1. Samsung R&D Institute\n",
      "2. Gramener\n",
      "3. DataJango\n",
      "4. Mphasis\n",
      "5. Bridgei2i Analytics Solutions\n"
     ]
    }
   ],
   "source": [
    "user_question = \"Give me the list of companies Paraveen worked for\"\n",
    "chain = (\n",
    "    {\"context\":retriever, \"question\":RunnablePassthrough()}\n",
    "    | prompt \n",
    "    | llm \n",
    "    | StrOutputParser()\n",
    ")\n",
    "\n",
    "response = chain.invoke(user_question)\n",
    "\n",
    "print(response)"
   ]
  },
  {
   "cell_type": "code",
   "execution_count": 10,
   "metadata": {},
   "outputs": [
    {
     "name": "stderr",
     "output_type": "stream",
     "text": [
      "OllamaEmbeddings: 100%|██████████| 1/1 [00:02<00:00,  2.11s/it]\n",
      "Number of requested results 4 is greater than number of elements in index 1, updating n_results = 1\n",
      "OllamaEmbeddings: 100%|██████████| 1/1 [00:02<00:00,  2.15s/it]\n",
      "Number of requested results 4 is greater than number of elements in index 1, updating n_results = 1\n",
      "OllamaEmbeddings: 100%|██████████| 1/1 [00:02<00:00,  2.22s/it]\n",
      "Number of requested results 4 is greater than number of elements in index 1, updating n_results = 1\n",
      "OllamaEmbeddings: 100%|██████████| 1/1 [00:02<00:00,  2.21s/it]\n",
      "Number of requested results 4 is greater than number of elements in index 1, updating n_results = 1\n",
      "OllamaEmbeddings: 100%|██████████| 1/1 [00:02<00:00,  2.15s/it]\n",
      "Number of requested results 4 is greater than number of elements in index 1, updating n_results = 1\n",
      "OllamaEmbeddings: 100%|██████████| 1/1 [00:02<00:00,  2.18s/it]\n",
      "Number of requested results 4 is greater than number of elements in index 1, updating n_results = 1\n"
     ]
    },
    {
     "name": "stdout",
     "output_type": "stream",
     "text": [
      "Based on the document provided, here are some of the technical skills that Praveen Kumar V possesses:\n",
      "\n",
      "1. Python programming languages:\n",
      "   - Pandas\n",
      "   - Scikit-learn\n",
      "   - Seaborn\n",
      "   - Numpy\n",
      "   - Spacy\n",
      "   - Gensim\n",
      "   - statsmodels\n",
      "\n",
      "2. Data science and AI technologies:\n",
      "   - Machine learning (ML) models: Linear Regression, Logistic Regression, Decision Tree Models, Bagging & Boosting Ensemble models, Naïve Bayes, KNN, Neural Networks, SVM, K Means, Encoding, Data Cleaning, Feature Engineering\n",
      "   - Natural Language Processing (NLP): NLTK, LangChain\n",
      "\n",
      "3. Big data technologies:\n",
      "   - Hadoop: MapReduce programs for benchmarking data transformations\n",
      "   - Spark: Data ingestion pipeline development\n",
      "   - Hive: Data warehousing and SQL\n",
      "\n",
      "4. Cloud technologies:\n",
      "   - Docker\n",
      "   - IBM/HP/ECM storage migrations (HMC, PowerHA Cluster builds)\n",
      "   - Apache Hadoop, IBM Infosphere\n",
      "   - Linux-RedHat setup & migrations for server migrations\n",
      "\n",
      "5. Operating Systems:\n",
      "   - Unix/Linux OS upgrades and patches installations\n",
      "   - Server migrations from legacy systems to modern virtual IBM infrastructure\n",
      "\n",
      "6. Cloud computing platforms:\n",
      "   - Amazon Web Services (AWS)\n",
      "   - Microsoft Azure\n"
     ]
    }
   ],
   "source": [
    "user_question = \"What technical skills does Praveen Possess ?\"\n",
    "chain = (\n",
    "    {\"context\":retriever, \"question\":RunnablePassthrough()}\n",
    "    | prompt \n",
    "    | llm \n",
    "    | StrOutputParser()\n",
    ")\n",
    "\n",
    "response = chain.invoke(user_question)\n",
    "\n",
    "print(response)"
   ]
  },
  {
   "cell_type": "markdown",
   "metadata": {},
   "source": [
    "By llama3.2:1b outputs"
   ]
  },
  {
   "cell_type": "code",
   "execution_count": 7,
   "metadata": {},
   "outputs": [
    {
     "name": "stderr",
     "output_type": "stream",
     "text": [
      "OllamaEmbeddings: 100%|██████████| 1/1 [00:02<00:00,  2.12s/it]\n",
      "Number of requested results 4 is greater than number of elements in index 1, updating n_results = 1\n",
      "OllamaEmbeddings: 100%|██████████| 1/1 [00:02<00:00,  2.16s/it]\n",
      "Number of requested results 4 is greater than number of elements in index 1, updating n_results = 1\n",
      "OllamaEmbeddings: 100%|██████████| 1/1 [00:02<00:00,  2.15s/it]\n",
      "Number of requested results 4 is greater than number of elements in index 1, updating n_results = 1\n",
      "OllamaEmbeddings: 100%|██████████| 1/1 [00:02<00:00,  2.19s/it]\n",
      "Number of requested results 4 is greater than number of elements in index 1, updating n_results = 1\n",
      "OllamaEmbeddings: 100%|██████████| 1/1 [00:02<00:00,  2.12s/it]\n",
      "Number of requested results 4 is greater than number of elements in index 1, updating n_results = 1\n",
      "OllamaEmbeddings: 100%|██████████| 1/1 [00:02<00:00,  2.11s/it]\n",
      "Number of requested results 4 is greater than number of elements in index 1, updating n_results = 1\n"
     ]
    },
    {
     "name": "stdout",
     "output_type": "stream",
     "text": [
      "Based on the document metadata, Paraveen Kumar V has worked for the following companies:\n",
      "\n",
      "1. IBM India\n",
      "2. Mphasis\n",
      "3. Bridgei2i Analytics Solutions\n",
      "4. JNTU/IIIT Hyderabad (as Assistant Mentor for MSIT program)\n"
     ]
    }
   ],
   "source": [
    "user_question = \"Give me the list of companies Paraveen worked for\"\n",
    "chain = (\n",
    "    {\"context\":retriever, \"question\":RunnablePassthrough()}\n",
    "    | prompt \n",
    "    | llm \n",
    "    | StrOutputParser()\n",
    ")\n",
    "\n",
    "response = chain.invoke(user_question)\n",
    "\n",
    "print(response)"
   ]
  },
  {
   "cell_type": "code",
   "execution_count": null,
   "metadata": {},
   "outputs": [
    {
     "name": "stderr",
     "output_type": "stream",
     "text": [
      "OllamaEmbeddings: 100%|██████████| 1/1 [00:02<00:00,  2.15s/it]\n",
      "Number of requested results 4 is greater than number of elements in index 1, updating n_results = 1\n",
      "OllamaEmbeddings: 100%|██████████| 1/1 [00:02<00:00,  2.14s/it]\n",
      "Number of requested results 4 is greater than number of elements in index 1, updating n_results = 1\n",
      "OllamaEmbeddings: 100%|██████████| 1/1 [00:02<00:00,  2.11s/it]\n",
      "Number of requested results 4 is greater than number of elements in index 1, updating n_results = 1\n",
      "OllamaEmbeddings: 100%|██████████| 1/1 [00:02<00:00,  2.17s/it]\n",
      "Number of requested results 4 is greater than number of elements in index 1, updating n_results = 1\n",
      "OllamaEmbeddings: 100%|██████████| 1/1 [00:02<00:00,  2.11s/it]\n",
      "Number of requested results 4 is greater than number of elements in index 1, updating n_results = 1\n",
      "OllamaEmbeddings: 100%|██████████| 1/1 [00:02<00:00,  2.20s/it]\n",
      "Number of requested results 4 is greater than number of elements in index 1, updating n_results = 1\n"
     ]
    },
    {
     "name": "stdout",
     "output_type": "stream",
     "text": [
      "Based on the provided document, Praveen Kumar V possesses the following technical skills:\n",
      "\n",
      "1. Data Science:\n",
      "   - Proficient Analytical, Problem-solving skills\n",
      "   - Product Management, vision implementation\n",
      "   - Data Engineering and pipeline development\n",
      "   - Data Visualization and communication\n",
      "   - Hands-on execution of Analytics leadership roles across diverse areas in business transformation\n",
      "\n",
      "2. Machine Learning (ML) and Artificial Intelligence (AI):\n",
      "   - AI (LLM, RAG, Embeddings) skills\n",
      "   - Statistical Analysis, EDA-Insights\n",
      "   - Predictive, Cluster Modeling\n",
      "   - Deep Learning Frameworks\n",
      "\n",
      "3. Python programming:\n",
      "   - Proficient in various Python libraries such as Pandas, Scikit-learn, Seaborn, Numpy, Spacy, Gensim, statsmodels, PyPDF, BeautifulSoup, LangChain, Llamaindex.\n",
      "\n",
      "4. Cloud Computing and Big Data Technologies:\n",
      "   - Hands-on use of technologies like BigQuery SQL, Superset, open source LLMs, RAG, Milvus, LangChian, LlamaIndex, Steamlit, Docker\n",
      "\n",
      "5. Natural Language Processing (NLP):\n",
      "   - Proficient in NLP techniques using Text modeling\n",
      "\n",
      "6. Data Engineering and Data Visualization:\n",
      "   - Knowledge of data visualization tools like Seaborn, Matplotlib, Plotly, Tableau\n"
     ]
    }
   ],
   "source": [
    "user_question = \"What technical skills does Praveen Possess ?\"\n",
    "chain = (\n",
    "    {\"context\":retriever, \"question\":RunnablePassthrough()}\n",
    "    | prompt \n",
    "    | llm \n",
    "    | StrOutputParser()\n",
    ")\n",
    "\n",
    "response = chain.invoke(user_question)\n",
    "\n",
    "print(response)"
   ]
  },
  {
   "cell_type": "code",
   "execution_count": null,
   "metadata": {},
   "outputs": [],
   "source": []
  }
 ],
 "metadata": {
  "kernelspec": {
   "display_name": ".venv",
   "language": "python",
   "name": "python3"
  },
  "language_info": {
   "codemirror_mode": {
    "name": "ipython",
    "version": 3
   },
   "file_extension": ".py",
   "mimetype": "text/x-python",
   "name": "python",
   "nbconvert_exporter": "python",
   "pygments_lexer": "ipython3",
   "version": "3.11.9"
  }
 },
 "nbformat": 4,
 "nbformat_minor": 2
}
